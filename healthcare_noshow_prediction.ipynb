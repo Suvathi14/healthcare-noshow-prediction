{
 "cells": [
  {
   "cell_type": "markdown",
   "id": "42854227",
   "metadata": {},
   "source": [
    "# 🏥 Healthcare No-show Prediction\n",
    "\n",
    "This notebook uses logistic regression to predict whether a patient will miss a scheduled medical appointment. It demonstrates feature engineering, model training, and interpretation of the results.\n"
   ]
  },
  {
   "cell_type": "code",
   "execution_count": null,
   "id": "822786c2",
   "metadata": {},
   "outputs": [],
   "source": [
    "import pandas as pd\n",
    "import numpy as np\n",
    "import matplotlib.pyplot as plt\n",
    "import seaborn as sns\n",
    "from sklearn.model_selection import train_test_split\n",
    "from sklearn.linear_model import LogisticRegression\n",
    "from sklearn.metrics import classification_report, confusion_matrix\n",
    "%matplotlib inline"
   ]
  },
  {
   "cell_type": "code",
   "execution_count": null,
   "id": "6b981ca7",
   "metadata": {},
   "outputs": [],
   "source": [
    "df = pd.read_csv(\"healthcare_noshow_sample.csv\")\n",
    "df.head()"
   ]
  },
  {
   "cell_type": "code",
   "execution_count": null,
   "id": "c0bc0495",
   "metadata": {},
   "outputs": [],
   "source": [
    "df['ScheduledDay'] = pd.to_datetime(df['ScheduledDay'])\n",
    "df['AppointmentDay'] = pd.to_datetime(df['AppointmentDay'])\n",
    "df['LeadTime'] = (df['AppointmentDay'] - df['ScheduledDay']).dt.days\n",
    "df['Gender'] = df['Gender'].map({'F': 0, 'M': 1})\n",
    "df['No-show'] = df['No-show'].map({'No': 0, 'Yes': 1})"
   ]
  },
  {
   "cell_type": "code",
   "execution_count": null,
   "id": "6ab3bba5",
   "metadata": {},
   "outputs": [],
   "source": [
    "features = ['Gender', 'Age', 'Scholarship', 'SMS_received', 'LeadTime']\n",
    "X = df[features]\n",
    "y = df['No-show']"
   ]
  },
  {
   "cell_type": "code",
   "execution_count": null,
   "id": "336074eb",
   "metadata": {},
   "outputs": [],
   "source": [
    "X_train, X_test, y_train, y_test = train_test_split(X, y, test_size=0.3, random_state=42)"
   ]
  },
  {
   "cell_type": "code",
   "execution_count": null,
   "id": "36e8a2e9",
   "metadata": {},
   "outputs": [],
   "source": [
    "model = LogisticRegression()\n",
    "model.fit(X_train, y_train)"
   ]
  },
  {
   "cell_type": "code",
   "execution_count": null,
   "id": "021aa608",
   "metadata": {},
   "outputs": [],
   "source": [
    "y_pred = model.predict(X_test)\n",
    "print(classification_report(y_test, y_pred))"
   ]
  },
  {
   "cell_type": "code",
   "execution_count": null,
   "id": "ee278a93",
   "metadata": {},
   "outputs": [],
   "source": [
    "conf_matrix = confusion_matrix(y_test, y_pred)\n",
    "sns.heatmap(conf_matrix, annot=True, fmt='d', cmap='Blues', xticklabels=[\"Show\", \"No-show\"], yticklabels=[\"Show\", \"No-show\"])\n",
    "plt.xlabel(\"Predicted\")\n",
    "plt.ylabel(\"Actual\")\n",
    "plt.title(\"Confusion Matrix\")\n",
    "plt.show()"
   ]
  },
  {
   "cell_type": "code",
   "execution_count": null,
   "id": "3ddefb3d",
   "metadata": {},
   "outputs": [],
   "source": [
    "coefficients = pd.DataFrame({\n",
    "    \"Feature\": features,\n",
    "    \"Coefficient\": model.coef_[0]\n",
    "}).sort_values(by=\"Coefficient\", key=abs, ascending=False)\n",
    "\n",
    "sns.barplot(x=\"Coefficient\", y=\"Feature\", data=coefficients, palette=\"viridis\")\n",
    "plt.title(\"Feature Importance - Logistic Regression\")\n",
    "plt.show()"
   ]
  },
  {
   "cell_type": "markdown",
   "id": "7d2e1c22",
   "metadata": {},
   "source": [
    "### 💡 Key Takeaways\n",
    "- SMS reminders and longer lead times reduce no-show likelihood.\n",
    "- Logistic regression gives interpretable insights on driver features.\n"
   ]
  }
 ],
 "metadata": {},
 "nbformat": 4,
 "nbformat_minor": 5
}
